{
 "cells": [
  {
   "cell_type": "markdown",
   "source": [
    "Zdroje:\n",
    "- https://www.tensorflow.org/model_optimization/guide/quantization/training_example"
   ],
   "metadata": {
    "collapsed": false
   }
  },
  {
   "cell_type": "code",
   "execution_count": 2,
   "metadata": {
    "collapsed": true
   },
   "outputs": [],
   "source": [
    "import tensorflow as tf\n",
    "from tensorflow import keras"
   ]
  },
  {
   "cell_type": "code",
   "execution_count": 3,
   "outputs": [],
   "source": [
    "import numpy as np\n",
    "import matplotlib.pyplot as plt"
   ],
   "metadata": {
    "collapsed": false
   }
  },
  {
   "cell_type": "code",
   "execution_count": 11,
   "outputs": [
    {
     "data": {
      "text/plain": "3.141592653589793"
     },
     "execution_count": 11,
     "metadata": {},
     "output_type": "execute_result"
    }
   ],
   "source": [
    "t = -3\n",
    "np.angle(t)"
   ],
   "metadata": {
    "collapsed": false
   }
  },
  {
   "cell_type": "code",
   "execution_count": 3,
   "outputs": [],
   "source": [
    "from keras.layers import Conv2D, MaxPool2D, Flatten, Dense"
   ],
   "metadata": {
    "collapsed": false
   }
  },
  {
   "cell_type": "code",
   "execution_count": 4,
   "outputs": [],
   "source": [
    "from keras.datasets import mnist\n",
    "\n",
    "(inputs_train, labels_train), (inputs_test, labels_test) = mnist.load_data()"
   ],
   "metadata": {
    "collapsed": false
   }
  },
  {
   "cell_type": "code",
   "execution_count": 5,
   "outputs": [],
   "source": [
    "# Normalize inputs\n",
    "inputs_train = inputs_train / 255\n",
    "inputs_test = inputs_test / 255"
   ],
   "metadata": {
    "collapsed": false
   }
  },
  {
   "cell_type": "code",
   "execution_count": 136,
   "outputs": [],
   "source": [
    "# Create model\n",
    "model = keras.models.Sequential([\n",
    "    keras.layers.InputLayer(input_shape=(28, 28)),\n",
    "    keras.layers.Reshape(target_shape=(28, 28, 1)),\n",
    "    Conv2D(filters=16, kernel_size=(3, 3), activation=keras.activations.relu),\n",
    "    MaxPool2D(),\n",
    "    Conv2D(filters=32, kernel_size=(2, 2), activation=keras.activations.relu),\n",
    "    MaxPool2D(),\n",
    "    Flatten(),\n",
    "    Dense(units = 10, activation=keras.activations.softmax),\n",
    "])"
   ],
   "metadata": {
    "collapsed": false
   }
  },
  {
   "cell_type": "code",
   "execution_count": 159,
   "outputs": [
    {
     "name": "stdout",
     "output_type": "stream",
     "text": [
      "Model: \"sequential_1\"\n",
      "_________________________________________________________________\n",
      " Layer (type)                Output Shape              Param #   \n",
      "=================================================================\n",
      " reshape_1 (Reshape)         (None, 28, 28, 1)         0         \n",
      "                                                                 \n",
      " conv2d_2 (Conv2D)           (None, 26, 26, 16)        160       \n",
      "                                                                 \n",
      " max_pooling2d_2 (MaxPooling  (None, 13, 13, 16)       0         \n",
      " 2D)                                                             \n",
      "                                                                 \n",
      " conv2d_3 (Conv2D)           (None, 12, 12, 32)        2080      \n",
      "                                                                 \n",
      " max_pooling2d_3 (MaxPooling  (None, 6, 6, 32)         0         \n",
      " 2D)                                                             \n",
      "                                                                 \n",
      " flatten_1 (Flatten)         (None, 1152)              0         \n",
      "                                                                 \n",
      " dense_1 (Dense)             (None, 10)                11530     \n",
      "                                                                 \n",
      "=================================================================\n",
      "Total params: 13,770\n",
      "Trainable params: 13,770\n",
      "Non-trainable params: 0\n",
      "_________________________________________________________________\n"
     ]
    }
   ],
   "source": [
    "model.summary()"
   ],
   "metadata": {
    "collapsed": false
   }
  },
  {
   "cell_type": "code",
   "execution_count": 137,
   "outputs": [],
   "source": [
    "# Compile model with adam optimizer and for accuracy\n",
    "model.compile(optimizer=\"adam\", loss=keras.losses.sparse_categorical_crossentropy, metrics=[\"accuracy\"])"
   ],
   "metadata": {
    "collapsed": false
   }
  },
  {
   "cell_type": "code",
   "execution_count": 139,
   "outputs": [
    {
     "name": "stdout",
     "output_type": "stream",
     "text": [
      "Epoch 1/3\n",
      "1688/1688 [==============================] - 18s 10ms/step - loss: 0.2244 - accuracy: 0.9365 - val_loss: 0.0681 - val_accuracy: 0.9803\n",
      "Epoch 2/3\n",
      "1688/1688 [==============================] - 16s 9ms/step - loss: 0.0733 - accuracy: 0.9777 - val_loss: 0.0562 - val_accuracy: 0.9863\n",
      "Epoch 3/3\n",
      "1688/1688 [==============================] - 16s 10ms/step - loss: 0.0563 - accuracy: 0.9830 - val_loss: 0.0542 - val_accuracy: 0.9847\n"
     ]
    },
    {
     "data": {
      "text/plain": "<keras.callbacks.History at 0x128dffbe0>"
     },
     "execution_count": 139,
     "metadata": {},
     "output_type": "execute_result"
    }
   ],
   "source": [
    "# Train model\n",
    "model.fit(inputs_train, labels_train, batch_size=32, epochs=3, verbose=1, validation_split=0.1)"
   ],
   "metadata": {
    "collapsed": false
   }
  },
  {
   "cell_type": "code",
   "execution_count": 140,
   "outputs": [
    {
     "name": "stdout",
     "output_type": "stream",
     "text": [
      "313/313 [==============================] - 1s 5ms/step - loss: 0.0481 - accuracy: 0.9837\n"
     ]
    },
    {
     "data": {
      "text/plain": "[0.048064373433589935, 0.9836999773979187]"
     },
     "execution_count": 140,
     "metadata": {},
     "output_type": "execute_result"
    }
   ],
   "source": [
    "model.evaluate(inputs_test, labels_test)"
   ],
   "metadata": {
    "collapsed": false
   }
  },
  {
   "cell_type": "code",
   "execution_count": 1,
   "outputs": [],
   "source": [
    "import quantization"
   ],
   "metadata": {
    "collapsed": false
   }
  },
  {
   "cell_type": "markdown",
   "source": [],
   "metadata": {
    "collapsed": false
   }
  },
  {
   "cell_type": "code",
   "execution_count": 158,
   "outputs": [
    {
     "name": "stdout",
     "output_type": "stream",
     "text": [
      "Model: \"sequential_1\"\n",
      "_________________________________________________________________\n",
      " Layer (type)                Output Shape              Param #   \n",
      "=================================================================\n",
      " quantize_layer_23 (Quantize  (None, 28, 28)           3         \n",
      " Layer)                                                          \n",
      "                                                                 \n",
      " quant_reshape_1 (QuantizeWr  (None, 28, 28, 1)        1         \n",
      " apperV2)                                                        \n",
      "                                                                 \n",
      " quant_conv2d_2 (QuantizeWra  (None, 26, 26, 16)       165       \n",
      " pperV2)                                                         \n",
      "                                                                 \n",
      " quant_max_pooling2d_2 (Quan  (None, 13, 13, 16)       1         \n",
      " tizeWrapperV2)                                                  \n",
      "                                                                 \n",
      " quant_conv2d_3 (QuantizeWra  (None, 12, 12, 32)       2085      \n",
      " pperV2)                                                         \n",
      "                                                                 \n",
      " quant_max_pooling2d_3 (Quan  (None, 6, 6, 32)         1         \n",
      " tizeWrapperV2)                                                  \n",
      "                                                                 \n",
      " quant_flatten_1 (QuantizeWr  (None, 1152)             1         \n",
      " apperV2)                                                        \n",
      "                                                                 \n",
      " quant_dense_1 (QuantizeWrap  (None, 10)               11535     \n",
      " perV2)                                                          \n",
      "                                                                 \n",
      "=================================================================\n",
      "Total params: 13,792\n",
      "Trainable params: 13,770\n",
      "Non-trainable params: 22\n",
      "_________________________________________________________________\n"
     ]
    }
   ],
   "source": [
    "annotated_model = quantization.quantize_model(model, [7, 7, 3])\n",
    "quant_aware_model = quantization.apply_custom_quantization(annotated_model)\n",
    "quant_aware_model.summary()"
   ],
   "metadata": {
    "collapsed": false
   }
  },
  {
   "cell_type": "code",
   "execution_count": 155,
   "outputs": [],
   "source": [
    "# Compile quantized model\n",
    "quant_aware_model.compile(optimizer=\"adam\", loss=keras.losses.sparse_categorical_crossentropy, metrics=[\"accuracy\"])"
   ],
   "metadata": {
    "collapsed": false
   }
  },
  {
   "cell_type": "code",
   "execution_count": 156,
   "outputs": [
    {
     "name": "stdout",
     "output_type": "stream",
     "text": [
      "57/57 [==============================] - 2s 13ms/step - loss: 0.0787 - accuracy: 0.9722 - val_loss: 0.0717 - val_accuracy: 0.9900\n"
     ]
    },
    {
     "data": {
      "text/plain": "<keras.callbacks.History at 0x1298f11e0>"
     },
     "execution_count": 156,
     "metadata": {},
     "output_type": "execute_result"
    }
   ],
   "source": [
    "# Fine-tune quantized model\n",
    "quant_aware_model.fit(inputs_train[0:500], labels_train[0:500], batch_size=16, epochs=1, verbose=1, validation_split=0.1)"
   ],
   "metadata": {
    "collapsed": false
   }
  },
  {
   "cell_type": "code",
   "execution_count": 157,
   "outputs": [
    {
     "name": "stdout",
     "output_type": "stream",
     "text": [
      "313/313 [==============================] - 1s 4ms/step - loss: 0.0567 - accuracy: 0.9830\n"
     ]
    },
    {
     "data": {
      "text/plain": "[0.05669531971216202, 0.9829999804496765]"
     },
     "execution_count": 157,
     "metadata": {},
     "output_type": "execute_result"
    }
   ],
   "source": [
    "quant_aware_model.evaluate(inputs_test, labels_test)"
   ],
   "metadata": {
    "collapsed": false
   }
  },
  {
   "cell_type": "code",
   "execution_count": null,
   "outputs": [],
   "source": [],
   "metadata": {
    "collapsed": false
   }
  }
 ],
 "metadata": {
  "kernelspec": {
   "display_name": "Python 3",
   "language": "python",
   "name": "python3"
  },
  "language_info": {
   "codemirror_mode": {
    "name": "ipython",
    "version": 2
   },
   "file_extension": ".py",
   "mimetype": "text/x-python",
   "name": "python",
   "nbconvert_exporter": "python",
   "pygments_lexer": "ipython2",
   "version": "2.7.6"
  }
 },
 "nbformat": 4,
 "nbformat_minor": 0
}
