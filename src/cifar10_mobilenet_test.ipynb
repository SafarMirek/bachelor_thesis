{
 "cells": [
  {
   "cell_type": "code",
   "execution_count": 1,
   "metadata": {
    "collapsed": true
   },
   "outputs": [],
   "source": [
    "import argparse\n",
    "from abc import ABC\n",
    "from datetime import datetime\n",
    "\n",
    "from tensorflow import keras\n",
    "import tensorflow as tf\n",
    "\n",
    "from tf_quantization.layers.quant_conv2D_batch_layer import QuantConv2DBatchLayer\n",
    "from tf_quantization.layers.quant_depthwise_conv2d_bn_layer import QuantDepthwiseConv2DBatchNormalizationLayer\n",
    "from tf_quantization.quantize_model import quantize_model\n",
    "import imagenet_mini\n",
    "import os\n",
    "import numpy as np"
   ]
  },
  {
   "cell_type": "code",
   "execution_count": 2,
   "outputs": [],
   "source": [
    "tf.random.set_seed(30082000)  # Set random seed to have reproducible results"
   ],
   "metadata": {
    "collapsed": false
   }
  },
  {
   "cell_type": "code",
   "execution_count": 3,
   "outputs": [
    {
     "name": "stdout",
     "output_type": "stream",
     "text": [
      "Metal device set to: Apple M2 Pro\n"
     ]
    },
    {
     "name": "stderr",
     "output_type": "stream",
     "text": [
      "2023-03-11 16:25:45.954690: I tensorflow/core/common_runtime/pluggable_device/pluggable_device_factory.cc:306] Could not identify NUMA node of platform GPU ID 0, defaulting to 0. Your kernel may not have been built with NUMA support.\n",
      "2023-03-11 16:25:45.954718: I tensorflow/core/common_runtime/pluggable_device/pluggable_device_factory.cc:272] Created TensorFlow device (/job:localhost/replica:0/task:0/device:GPU:0 with 0 MB memory) -> physical PluggableDevice (device: 0, name: METAL, pci bus id: <undefined>)\n"
     ]
    }
   ],
   "source": [
    "base_model = tf.keras.applications.MobileNet(weights=None, input_shape=(32, 32, 3), alpha=1, classes=10, include_top=False)"
   ],
   "metadata": {
    "collapsed": false
   }
  },
  {
   "cell_type": "code",
   "execution_count": 4,
   "outputs": [],
   "source": [
    "model = keras.Sequential()\n",
    "#Creating base layer of VGG19\n",
    "model.add(base_model)\n",
    "model.add(keras.layers.Dropout(0.5))\n",
    "model.add(keras.layers.Flatten())\n",
    "\n",
    "#Adding the Dense Layers and Dropout\n",
    "model.add(keras.layers.Dense(512,activation=('relu')))\n",
    "\n",
    "model.add(keras.layers.Dense(256,activation=('relu')))\n",
    "\n",
    "model.add(keras.layers.Dropout(.3))\n",
    "\n",
    "model.add(keras.layers.Dense(128,activation=('relu')))\n",
    "\n",
    "model.add(keras.layers.Dropout(.2))\n",
    "\n",
    "model.add(keras.layers.Dense(10,activation=('softmax')))"
   ],
   "metadata": {
    "collapsed": false
   }
  },
  {
   "cell_type": "code",
   "execution_count": 5,
   "outputs": [
    {
     "name": "stdout",
     "output_type": "stream",
     "text": [
      "Model: \"sequential\"\n",
      "_________________________________________________________________\n",
      " Layer (type)                Output Shape              Param #   \n",
      "=================================================================\n",
      " mobilenet_1.00_32 (Function  (None, 1, 1, 1024)       3228864   \n",
      " al)                                                             \n",
      "                                                                 \n",
      " dropout (Dropout)           (None, 1, 1, 1024)        0         \n",
      "                                                                 \n",
      " flatten (Flatten)           (None, 1024)              0         \n",
      "                                                                 \n",
      " dense (Dense)               (None, 512)               524800    \n",
      "                                                                 \n",
      " dense_1 (Dense)             (None, 256)               131328    \n",
      "                                                                 \n",
      " dropout_1 (Dropout)         (None, 256)               0         \n",
      "                                                                 \n",
      " dense_2 (Dense)             (None, 128)               32896     \n",
      "                                                                 \n",
      " dropout_2 (Dropout)         (None, 128)               0         \n",
      "                                                                 \n",
      " dense_3 (Dense)             (None, 10)                1290      \n",
      "                                                                 \n",
      "=================================================================\n",
      "Total params: 3,919,178\n",
      "Trainable params: 3,897,290\n",
      "Non-trainable params: 21,888\n",
      "_________________________________________________________________\n"
     ]
    }
   ],
   "source": [
    "model.summary()"
   ],
   "metadata": {
    "collapsed": false
   }
  },
  {
   "cell_type": "code",
   "execution_count": 6,
   "outputs": [
    {
     "name": "stdout",
     "output_type": "stream",
     "text": [
      "WARNING:tensorflow:From /Users/miroslavsafar/miniconda3/envs/bachelor_thesis/lib/python3.10/site-packages/tensorflow/python/autograph/pyct/static_analysis/liveness.py:83: Analyzer.lamba_check (from tensorflow.python.autograph.pyct.static_analysis.liveness) is deprecated and will be removed after 2023-09-23.\n",
      "Instructions for updating:\n",
      "Lambda fuctions will be no more assumed to be used in the statement where they are used, or at least in the same block. https://github.com/tensorflow/tensorflow/issues/56089\n"
     ]
    },
    {
     "name": "stderr",
     "output_type": "stream",
     "text": [
      "WARNING:tensorflow:From /Users/miroslavsafar/miniconda3/envs/bachelor_thesis/lib/python3.10/site-packages/tensorflow/python/autograph/pyct/static_analysis/liveness.py:83: Analyzer.lamba_check (from tensorflow.python.autograph.pyct.static_analysis.liveness) is deprecated and will be removed after 2023-09-23.\n",
      "Instructions for updating:\n",
      "Lambda fuctions will be no more assumed to be used in the statement where they are used, or at least in the same block. https://github.com/tensorflow/tensorflow/issues/56089\n"
     ]
    }
   ],
   "source": [
    "import cifar10\n",
    "\n",
    "tr_ds = cifar10.get_imagenet_mini_dataset(\"train\")\n",
    "tr_ds = tr_ds.map(cifar10.get_preprocess_image_fn(image_size=(32, 32)))\n",
    "\n",
    "train_ds = tr_ds\\\n",
    "    .map(lambda data: (data['image'], data['label']))\\\n",
    "    .batch(128)\n",
    "\n",
    "ds = cifar10.get_imagenet_mini_dataset(\"test\")\n",
    "ds = ds.map(cifar10.get_preprocess_image_fn(image_size=(32, 32)))\n",
    "test_ds = ds.map(lambda data: (data['image'], data['label'])).batch(128)"
   ],
   "metadata": {
    "collapsed": false
   }
  },
  {
   "cell_type": "code",
   "execution_count": 7,
   "outputs": [],
   "source": [
    "model.compile(optimizer=tf.keras.optimizers.legacy.Adam(learning_rate=0.01),\n",
    "                          loss=tf.keras.losses.SparseCategoricalCrossentropy(),\n",
    "                          metrics=['accuracy'])"
   ],
   "metadata": {
    "collapsed": false
   }
  },
  {
   "cell_type": "code",
   "execution_count": 8,
   "outputs": [
    {
     "name": "stdout",
     "output_type": "stream",
     "text": [
      "Epoch 1/25\n"
     ]
    },
    {
     "name": "stderr",
     "output_type": "stream",
     "text": [
      "2023-03-11 16:25:54.429665: W tensorflow/tsl/platform/profile_utils/cpu_utils.cc:128] Failed to get CPU frequency: 0 Hz\n",
      "2023-03-11 16:25:55.480971: I tensorflow/core/grappler/optimizers/custom_graph_optimizer_registry.cc:114] Plugin optimizer for device_type GPU is enabled.\n"
     ]
    },
    {
     "name": "stdout",
     "output_type": "stream",
     "text": [
      "391/391 [==============================] - ETA: 0s - loss: 2.0262 - accuracy: 0.1961"
     ]
    },
    {
     "name": "stderr",
     "output_type": "stream",
     "text": [
      "2023-03-11 16:26:09.177207: I tensorflow/core/grappler/optimizers/custom_graph_optimizer_registry.cc:114] Plugin optimizer for device_type GPU is enabled.\n"
     ]
    },
    {
     "name": "stdout",
     "output_type": "stream",
     "text": [
      "391/391 [==============================] - 16s 34ms/step - loss: 2.0262 - accuracy: 0.1961 - val_loss: 2.3118 - val_accuracy: 0.1530\n",
      "Epoch 2/25\n",
      "391/391 [==============================] - 12s 31ms/step - loss: 1.8059 - accuracy: 0.2660 - val_loss: 2.0747 - val_accuracy: 0.2373\n",
      "Epoch 3/25\n",
      "391/391 [==============================] - 12s 31ms/step - loss: 1.7053 - accuracy: 0.3399 - val_loss: 2.0322 - val_accuracy: 0.3314\n",
      "Epoch 4/25\n",
      "391/391 [==============================] - 12s 31ms/step - loss: 1.8663 - accuracy: 0.2962 - val_loss: 3.0380 - val_accuracy: 0.1415\n",
      "Epoch 5/25\n",
      "391/391 [==============================] - 12s 31ms/step - loss: 2.0555 - accuracy: 0.1936 - val_loss: 2.2265 - val_accuracy: 0.2060\n",
      "Epoch 6/25\n",
      "391/391 [==============================] - 13s 33ms/step - loss: 1.9478 - accuracy: 0.2259 - val_loss: 1.9436 - val_accuracy: 0.2377\n",
      "Epoch 7/25\n",
      "391/391 [==============================] - 13s 33ms/step - loss: 1.9572 - accuracy: 0.2463 - val_loss: 1.9815 - val_accuracy: 0.2057\n",
      "Epoch 8/25\n",
      "391/391 [==============================] - 13s 33ms/step - loss: 1.9368 - accuracy: 0.2195 - val_loss: 1.9084 - val_accuracy: 0.2512\n",
      "Epoch 9/25\n",
      "391/391 [==============================] - 13s 33ms/step - loss: 1.8578 - accuracy: 0.2595 - val_loss: 1.8840 - val_accuracy: 0.2433\n",
      "Epoch 10/25\n",
      "391/391 [==============================] - 13s 34ms/step - loss: 1.8908 - accuracy: 0.2509 - val_loss: 2.0670 - val_accuracy: 0.2282\n",
      "Epoch 11/25\n",
      "391/391 [==============================] - 13s 34ms/step - loss: 1.9302 - accuracy: 0.2380 - val_loss: 2.3371 - val_accuracy: 0.2388\n",
      "Epoch 12/25\n",
      "391/391 [==============================] - 13s 34ms/step - loss: 1.8983 - accuracy: 0.2619 - val_loss: 2.1893 - val_accuracy: 0.2495\n",
      "Epoch 13/25\n",
      "391/391 [==============================] - 13s 34ms/step - loss: 1.9937 - accuracy: 0.2280 - val_loss: 1.9285 - val_accuracy: 0.2514\n",
      "Epoch 14/25\n",
      "391/391 [==============================] - 13s 33ms/step - loss: 1.9222 - accuracy: 0.2498 - val_loss: 2.8806 - val_accuracy: 0.2102\n",
      "Epoch 15/25\n",
      "391/391 [==============================] - 13s 33ms/step - loss: 1.8761 - accuracy: 0.2603 - val_loss: 1.8565 - val_accuracy: 0.2716\n",
      "Epoch 16/25\n",
      "391/391 [==============================] - 12s 31ms/step - loss: 1.8609 - accuracy: 0.2621 - val_loss: 1.8744 - val_accuracy: 0.2531\n",
      "Epoch 17/25\n",
      "391/391 [==============================] - 12s 31ms/step - loss: 1.8753 - accuracy: 0.2522 - val_loss: 6.4640 - val_accuracy: 0.1344\n",
      "Epoch 18/25\n",
      "391/391 [==============================] - 12s 31ms/step - loss: 1.8743 - accuracy: 0.2591 - val_loss: 8.4311 - val_accuracy: 0.1446\n",
      "Epoch 19/25\n",
      "391/391 [==============================] - 12s 31ms/step - loss: 1.8640 - accuracy: 0.2549 - val_loss: 4.1526 - val_accuracy: 0.1367\n",
      "Epoch 20/25\n",
      "391/391 [==============================] - 12s 31ms/step - loss: 1.7989 - accuracy: 0.2754 - val_loss: 2.6515 - val_accuracy: 0.1575\n",
      "Epoch 21/25\n",
      "391/391 [==============================] - 12s 31ms/step - loss: 1.7648 - accuracy: 0.2962 - val_loss: 1.9067 - val_accuracy: 0.2434\n",
      "Epoch 22/25\n",
      "391/391 [==============================] - 12s 30ms/step - loss: 1.8903 - accuracy: 0.2575 - val_loss: 2.0486 - val_accuracy: 0.2162\n",
      "Epoch 23/25\n",
      "391/391 [==============================] - 12s 30ms/step - loss: 1.8368 - accuracy: 0.2679 - val_loss: 3.9385 - val_accuracy: 0.1032\n",
      "Epoch 24/25\n",
      "391/391 [==============================] - 12s 30ms/step - loss: 1.7976 - accuracy: 0.2856 - val_loss: 1.8030 - val_accuracy: 0.3010\n",
      "Epoch 25/25\n",
      "391/391 [==============================] - 12s 30ms/step - loss: 1.8061 - accuracy: 0.2822 - val_loss: 2.6322 - val_accuracy: 0.1756\n"
     ]
    },
    {
     "data": {
      "text/plain": "<keras.callbacks.History at 0x2ce112f80>"
     },
     "execution_count": 8,
     "metadata": {},
     "output_type": "execute_result"
    }
   ],
   "source": [
    "model.fit(train_ds, epochs=25, validation_data=test_ds)"
   ],
   "metadata": {
    "collapsed": false
   }
  },
  {
   "cell_type": "code",
   "execution_count": 8,
   "outputs": [],
   "source": [
    "model.compile(optimizer=tf.keras.optimizers.legacy.Adam(learning_rate=0.001),\n",
    "                          loss=tf.keras.losses.SparseCategoricalCrossentropy(),\n",
    "                          metrics=['accuracy'])"
   ],
   "metadata": {
    "collapsed": false
   }
  },
  {
   "cell_type": "code",
   "execution_count": null,
   "outputs": [
    {
     "name": "stdout",
     "output_type": "stream",
     "text": [
      "Epoch 1/25\n"
     ]
    },
    {
     "name": "stderr",
     "output_type": "stream",
     "text": [
      "2023-03-11 16:13:29.188944: I tensorflow/core/grappler/optimizers/custom_graph_optimizer_registry.cc:114] Plugin optimizer for device_type GPU is enabled.\n"
     ]
    },
    {
     "name": "stdout",
     "output_type": "stream",
     "text": [
      "391/391 [==============================] - ETA: 0s - loss: 0.1528 - accuracy: 0.9489"
     ]
    },
    {
     "name": "stderr",
     "output_type": "stream",
     "text": [
      "2023-03-11 16:13:42.080212: I tensorflow/core/grappler/optimizers/custom_graph_optimizer_registry.cc:114] Plugin optimizer for device_type GPU is enabled.\n"
     ]
    },
    {
     "name": "stdout",
     "output_type": "stream",
     "text": [
      "391/391 [==============================] - 15s 33ms/step - loss: 0.1528 - accuracy: 0.9489 - val_loss: 0.9086 - val_accuracy: 0.7776\n",
      "Epoch 2/25\n",
      "391/391 [==============================] - 11s 29ms/step - loss: 0.0653 - accuracy: 0.9809 - val_loss: 1.0840 - val_accuracy: 0.7748\n",
      "Epoch 3/25\n",
      "391/391 [==============================] - 11s 29ms/step - loss: 0.0269 - accuracy: 0.9936 - val_loss: 1.3216 - val_accuracy: 0.7691\n",
      "Epoch 4/25\n",
      "391/391 [==============================] - 11s 29ms/step - loss: 0.0124 - accuracy: 0.9974 - val_loss: 1.5271 - val_accuracy: 0.7696\n",
      "Epoch 5/25\n",
      "391/391 [==============================] - 11s 29ms/step - loss: 0.0087 - accuracy: 0.9982 - val_loss: 1.6432 - val_accuracy: 0.7654\n",
      "Epoch 6/25\n",
      "391/391 [==============================] - 12s 29ms/step - loss: 0.0068 - accuracy: 0.9987 - val_loss: 1.7866 - val_accuracy: 0.7633\n",
      "Epoch 7/25\n",
      "391/391 [==============================] - 12s 30ms/step - loss: 0.0056 - accuracy: 0.9987 - val_loss: 1.8757 - val_accuracy: 0.7680\n",
      "Epoch 8/25\n",
      "391/391 [==============================] - 11s 29ms/step - loss: 0.0092 - accuracy: 0.9975 - val_loss: 1.9990 - val_accuracy: 0.7676\n",
      "Epoch 9/25\n",
      "263/391 [===================>..........] - ETA: 3s - loss: 0.0115 - accuracy: 0.9965"
     ]
    }
   ],
   "source": [
    "model.fit(train_ds, epochs=25, validation_data=test_ds)"
   ],
   "metadata": {
    "collapsed": false
   }
  },
  {
   "cell_type": "code",
   "execution_count": null,
   "outputs": [],
   "source": [
    "model.evaluate(test_ds)"
   ],
   "metadata": {
    "collapsed": false
   }
  }
 ],
 "metadata": {
  "kernelspec": {
   "display_name": "Python 3",
   "language": "python",
   "name": "python3"
  },
  "language_info": {
   "codemirror_mode": {
    "name": "ipython",
    "version": 2
   },
   "file_extension": ".py",
   "mimetype": "text/x-python",
   "name": "python",
   "nbconvert_exporter": "python",
   "pygments_lexer": "ipython2",
   "version": "2.7.6"
  }
 },
 "nbformat": 4,
 "nbformat_minor": 0
}
